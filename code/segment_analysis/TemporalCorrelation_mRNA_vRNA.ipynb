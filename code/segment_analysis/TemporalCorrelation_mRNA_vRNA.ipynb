{
 "cells": [
  {
   "cell_type": "markdown",
   "id": "3c2e1358-40f9-4ecf-9e18-ae6cd4251834",
   "metadata": {},
   "source": [
    "## Temporal correlation between single mRNA segments and total vRNA (Supplementary Figure 8)"
   ]
  },
  {
   "cell_type": "code",
   "execution_count": 1,
   "id": "f7ae5856-652a-4dd4-acb6-c9e46aad805f",
   "metadata": {},
   "outputs": [],
   "source": [
    "import pandas as pd\n",
    "import matplotlib.pyplot as plt\n",
    "import numpy as np\n",
    "import scipy.stats as stats"
   ]
  },
  {
   "cell_type": "code",
   "execution_count": 2,
   "id": "77e18544-e5dd-417a-876b-f5b0d60f0c95",
   "metadata": {},
   "outputs": [],
   "source": [
    "def filterDF(df, repVal=None, moiVal=None, hpiVal=None, moleculeVal=None, segmentVal=None):\n",
    "    filtered_df = df\n",
    "    if repVal is not None:\n",
    "        filtered_df = filtered_df[filtered_df.rep == repVal]\n",
    "    \n",
    "    if moiVal is not None:\n",
    "        filtered_df = filtered_df[filtered_df.moi == moiVal]\n",
    "    \n",
    "    if hpiVal is not None:\n",
    "        filtered_df = filtered_df[filtered_df.hpi == hpiVal]\n",
    "    \n",
    "    if moleculeVal is not None:\n",
    "        filtered_df = filtered_df[filtered_df.molecule == moleculeVal]\n",
    "    \n",
    "    if segmentVal is not None:\n",
    "        filtered_df = filtered_df[filtered_df.segment == segmentVal]\n",
    "    \n",
    "    return filtered_df"
   ]
  },
  {
   "cell_type": "markdown",
   "id": "60e5e186-07eb-484b-a5d8-6869708ad237",
   "metadata": {},
   "source": [
    "## Data preprocessing"
   ]
  },
  {
   "cell_type": "code",
   "execution_count": 3,
   "id": "387516c8-1933-433d-ab7c-70e34e574d33",
   "metadata": {},
   "outputs": [],
   "source": [
    "spots=pd.read_csv(\"analysis/spot_detection/seq_2nt/all_spots.tsv.xz\",sep=\"\\t\")"
   ]
  },
  {
   "cell_type": "code",
   "execution_count": 4,
   "id": "c90ce7d9-67f0-44e8-aa67-eb6e29399a8f",
   "metadata": {},
   "outputs": [],
   "source": [
    "# Step 1: Filter groups with at least 5 rows\n",
    "filtered_spots = spots.groupby(['rep', 'moi', 'hpi', 'fov', 'cell']).filter(lambda x: len(x) >= 5)\n",
    "\n",
    "# Step 2: Calculate the number of unique cells per group\n",
    "unique_cells = filtered_spots.groupby(['rep', 'moi', 'hpi', 'fov'])['cell'].transform('nunique')\n",
    "\n",
    "# Step 3: Assign the calculated unique cells count to a new column\n",
    "filtered_spots['infected_cells'] = unique_cells\n",
    "\n",
    "# Step 4: Reset the index\n",
    "spots1 = filtered_spots.reset_index(drop=True)\n"
   ]
  },
  {
   "cell_type": "code",
   "execution_count": 5,
   "id": "9228cd7f-512d-4b36-867d-a3421637b167",
   "metadata": {},
   "outputs": [],
   "source": [
    "# Define the order of the segments for reordering\n",
    "segment_order = [\"PB2\",\"PB1\",\"PA\",\"HA\",\"NP\",\"NA\",\"M\",\"NS\"]\n",
    "\n",
    "# Perform the transformations\n",
    "spots2 = (spots1\n",
    "    .assign(target=np.where(spots1['target'].str.contains(','), 'multi', spots1['target']))\n",
    "    .assign(segment=spots1['target'].str.split(' ').str[0],\n",
    "            molecule=spots1['target'].str.split(' ').str[1])\n",
    "    .reset_index()\n",
    ")"
   ]
  },
  {
   "cell_type": "code",
   "execution_count": 6,
   "id": "f5271858-ca29-4963-ab6f-ba38209b5ac1",
   "metadata": {},
   "outputs": [],
   "source": [
    "# Perform the transformations\n",
    "spots3 = (spots2\n",
    "    .assign(segment=pd.Categorical(spots2['segment'], categories=segment_order, ordered=True))\n",
    "    .groupby(['rep', 'moi', 'hpi', 'fov', 'segment', 'molecule', 'ambiguous', 'infected_cells'],observed=False)\n",
    "    .agg(spots=('target', 'size'),\n",
    "         median_intensity=('intensity', 'median'),\n",
    "         mean_radius=('radius', 'median'))\n",
    "    .reset_index()\n",
    ")\n"
   ]
  },
  {
   "cell_type": "code",
   "execution_count": 7,
   "id": "e9f7d35e-6ec6-4b90-8629-5886425ff05c",
   "metadata": {},
   "outputs": [],
   "source": [
    "spots_summary = (spots3\n",
    "    .assign(spots_per_infected_cell=lambda df: df['spots'] / df['infected_cells'])\n",
    "    .reset_index()\n",
    ")"
   ]
  },
  {
   "cell_type": "code",
   "execution_count": 8,
   "id": "f65ea001",
   "metadata": {},
   "outputs": [],
   "source": [
    "# Filter for moi > 0 (should no longer be necessary)\n",
    "filtered_data = spots_summary[spots_summary['moi'] > 0]"
   ]
  },
  {
   "cell_type": "code",
   "execution_count": 9,
   "id": "33c3e405-52a6-49fa-8f97-50d6d87500b8",
   "metadata": {},
   "outputs": [],
   "source": [
    "# Group by 'moi', 'hpi', 'segment', 'molecule' and calculate mean of 'spots_per_infected_cell'\n",
    "filtered_data.loc[:, 'mean_n'] = (filtered_data\n",
    "    .groupby(['moi', 'hpi', 'segment', 'molecule'], observed=False)['spots_per_infected_cell']\n",
    "    .transform('mean'))\n"
   ]
  },
  {
   "cell_type": "code",
   "execution_count": 10,
   "id": "03ecc2c3-2a9c-41ea-a2a2-cbf2ac6e5a0e",
   "metadata": {},
   "outputs": [],
   "source": [
    "# Filter out rows where 'segment' is 'missing' or 'multi'\n",
    "filtered_data = filtered_data[~filtered_data['segment'].isin(['missing', 'multi'])]"
   ]
  },
  {
   "cell_type": "code",
   "execution_count": 11,
   "id": "2ee6e393-1ed9-4ece-86cd-4b772599c84d",
   "metadata": {},
   "outputs": [],
   "source": [
    "filtered_data_mRNA_03=filterDF(filtered_data, repVal=None, moiVal=0.3, hpiVal=None, moleculeVal='mRNA', segmentVal=None)\n",
    "filtered_data_mRNA_1=filterDF(filtered_data, repVal=None, moiVal=1, hpiVal=None, moleculeVal='mRNA', segmentVal=None)\n",
    "filtered_data_vRNA_03=filterDF(filtered_data, repVal=None, moiVal=0.3, hpiVal=None, moleculeVal='vRNA', segmentVal=None)\n",
    "filtered_data_vRNA_1=filterDF(filtered_data, repVal=None, moiVal=1, hpiVal=None, moleculeVal='vRNA', segmentVal=None)"
   ]
  },
  {
   "cell_type": "code",
   "execution_count": 12,
   "id": "79b9aa36-9fa6-42ea-8952-a7914d590f62",
   "metadata": {},
   "outputs": [],
   "source": [
    "# Group by the specified columns and summarize the data\n",
    "grouped_data = filtered_data.groupby(['rep', 'moi', 'hpi', 'fov', 'molecule'],observed=False).agg(\n",
    "    spots=pd.NamedAgg(column='spots', aggfunc='sum'),\n",
    "    spots_per_infected_cell=pd.NamedAgg(column='spots_per_infected_cell', aggfunc='sum')\n",
    ").reset_index()"
   ]
  },
  {
   "cell_type": "code",
   "execution_count": 13,
   "id": "4c47599f-18c2-4861-b3f1-a01588f13feb",
   "metadata": {},
   "outputs": [],
   "source": [
    "# Further group by 'moi', 'hpi', and 'molecule' and calculate the mean\n",
    "grouped_data['mean_n'] = grouped_data.groupby(['moi', 'hpi', 'molecule'])['spots_per_infected_cell'].transform('mean')"
   ]
  },
  {
   "cell_type": "code",
   "execution_count": 14,
   "id": "0724ec04-1a6a-45c1-b551-76ce8ed5ff5b",
   "metadata": {},
   "outputs": [],
   "source": [
    "filtered_grouped_data_mRNA_03=filterDF(grouped_data, repVal=None, moiVal=0.3, hpiVal=None, moleculeVal='mRNA', segmentVal=None)\n",
    "filtered_grouped_data_mRNA_1=filterDF(grouped_data, repVal=None, moiVal=1, hpiVal=None, moleculeVal='mRNA', segmentVal=None)\n",
    "filtered_grouped_data_vRNA_03=filterDF(grouped_data, repVal=None, moiVal=0.3, hpiVal=None, moleculeVal='vRNA', segmentVal=None)\n",
    "filtered_grouped_data_vRNA_1=filterDF(grouped_data, repVal=None, moiVal=1, hpiVal=None, moleculeVal='vRNA', segmentVal=None)"
   ]
  },
  {
   "cell_type": "markdown",
   "id": "b4bd8f47-afd9-499e-8626-d042eb52e5aa",
   "metadata": {},
   "source": [
    "## Calculating the correlation coefficients"
   ]
  },
  {
   "cell_type": "code",
   "execution_count": 15,
   "id": "d889c596-18a9-457c-9528-91b5a0c17852",
   "metadata": {},
   "outputs": [],
   "source": [
    "# Initialize an empty list to store dictionaries representing rows\n",
    "df=filtered_data_mRNA_03\n",
    "moleculeVal='vRNA'\n",
    "rows = []\n",
    "moiVal=0.3\n",
    "for segmentVal in df.segment.unique():\n",
    "    filtered=filterDF(filtered_data_mRNA_03, repVal=None, moiVal=moiVal, hpiVal=None, moleculeVal=None, segmentVal=segmentVal)\n",
    "    mean_Segm=filtered.groupby('hpi').first()\n",
    "    mean_vRNA=filtered_grouped_data_vRNA_03.groupby('hpi').first()\n",
    "    pearson_corr =stats.pearsonr(mean_Segm['mean_n'],mean_vRNA['mean_n'])\n",
    "    spearman_corr =stats.spearmanr(mean_Segm['mean_n'],mean_vRNA['mean_n'])\n",
    "    new_row = {'moi': moiVal, 'molecule': 'total '+moleculeVal, 'segment': segmentVal, 'PearsonCorrelation': pearson_corr[0],'Pearson_p-Value': pearson_corr[1],\n",
    "               'SpearmanCorrelation': spearman_corr[0],'Spearman_p-Value': spearman_corr[1]}\n",
    "    rows.append(new_row)\n",
    "moiVal=1\n",
    "df=filtered_data_mRNA_1\n",
    "for segmentVal in df.segment.unique():\n",
    "    filtered=filterDF(filtered_data_mRNA_1, repVal=None, moiVal=moiVal, hpiVal=None, moleculeVal=None, segmentVal=segmentVal)\n",
    "    mean_Segm=filtered.groupby('hpi').first()\n",
    "    mean_vRNA=filtered_grouped_data_vRNA_1.groupby('hpi').first()\n",
    "    pearson_corr =stats.pearsonr(mean_Segm['mean_n'],mean_vRNA['mean_n'])\n",
    "    spearman_corr =stats.spearmanr(mean_Segm['mean_n'],mean_vRNA['mean_n'])\n",
    "    new_row = {'moi': moiVal, 'molecule': 'total '+moleculeVal, 'segment': segmentVal, 'PearsonCorrelation': pearson_corr[0],'Pearson_p-Value': pearson_corr[1],\n",
    "               'SpearmanCorrelation': spearman_corr[0],'Spearman_p-Value': spearman_corr[1]}\n",
    "    rows.append(new_row)\n",
    "# Convert the list of dictionaries to a DataFrame\n",
    "df_res = pd.DataFrame(rows)"
   ]
  },
  {
   "cell_type": "code",
   "execution_count": 16,
   "id": "40e5ded0-ab85-4db9-9809-11783968e6d4",
   "metadata": {},
   "outputs": [],
   "source": [
    "df_res.to_csv('analysis/temporal_correlation/correlation_total_vRNA.csv', index=False)"
   ]
  },
  {
   "cell_type": "markdown",
   "id": "f463f7e2-bb9e-45c1-b06d-8cff01a4f77d",
   "metadata": {},
   "source": [
    "## Plotting the results"
   ]
  },
  {
   "cell_type": "code",
   "execution_count": 17,
   "id": "cab6b1f1-f72a-460c-a1bd-1876ed124b57",
   "metadata": {},
   "outputs": [
    {
     "data": {
      "text/html": [
       "<div>\n",
       "<style scoped>\n",
       "    .dataframe tbody tr th:only-of-type {\n",
       "        vertical-align: middle;\n",
       "    }\n",
       "\n",
       "    .dataframe tbody tr th {\n",
       "        vertical-align: top;\n",
       "    }\n",
       "\n",
       "    .dataframe thead th {\n",
       "        text-align: right;\n",
       "    }\n",
       "</style>\n",
       "<table border=\"1\" class=\"dataframe\">\n",
       "  <thead>\n",
       "    <tr style=\"text-align: right;\">\n",
       "      <th></th>\n",
       "      <th>moi</th>\n",
       "      <th>molecule</th>\n",
       "      <th>segment</th>\n",
       "      <th>PearsonCorrelation</th>\n",
       "      <th>Pearson_p-Value</th>\n",
       "      <th>SpearmanCorrelation</th>\n",
       "      <th>Spearman_p-Value</th>\n",
       "    </tr>\n",
       "  </thead>\n",
       "  <tbody>\n",
       "    <tr>\n",
       "      <th>0</th>\n",
       "      <td>0.3</td>\n",
       "      <td>total vRNA</td>\n",
       "      <td>PB2</td>\n",
       "      <td>0.591697</td>\n",
       "      <td>0.093274</td>\n",
       "      <td>0.366667</td>\n",
       "      <td>0.331740</td>\n",
       "    </tr>\n",
       "    <tr>\n",
       "      <th>1</th>\n",
       "      <td>0.3</td>\n",
       "      <td>total vRNA</td>\n",
       "      <td>PB1</td>\n",
       "      <td>0.794355</td>\n",
       "      <td>0.010550</td>\n",
       "      <td>0.583333</td>\n",
       "      <td>0.099186</td>\n",
       "    </tr>\n",
       "    <tr>\n",
       "      <th>2</th>\n",
       "      <td>0.3</td>\n",
       "      <td>total vRNA</td>\n",
       "      <td>PA</td>\n",
       "      <td>0.505629</td>\n",
       "      <td>0.164937</td>\n",
       "      <td>0.266667</td>\n",
       "      <td>0.487922</td>\n",
       "    </tr>\n",
       "    <tr>\n",
       "      <th>3</th>\n",
       "      <td>0.3</td>\n",
       "      <td>total vRNA</td>\n",
       "      <td>HA</td>\n",
       "      <td>0.553960</td>\n",
       "      <td>0.121724</td>\n",
       "      <td>0.400000</td>\n",
       "      <td>0.286105</td>\n",
       "    </tr>\n",
       "    <tr>\n",
       "      <th>4</th>\n",
       "      <td>0.3</td>\n",
       "      <td>total vRNA</td>\n",
       "      <td>NP</td>\n",
       "      <td>0.609360</td>\n",
       "      <td>0.081511</td>\n",
       "      <td>0.616667</td>\n",
       "      <td>0.076929</td>\n",
       "    </tr>\n",
       "    <tr>\n",
       "      <th>5</th>\n",
       "      <td>0.3</td>\n",
       "      <td>total vRNA</td>\n",
       "      <td>NA</td>\n",
       "      <td>0.786723</td>\n",
       "      <td>0.011890</td>\n",
       "      <td>0.583333</td>\n",
       "      <td>0.099186</td>\n",
       "    </tr>\n",
       "    <tr>\n",
       "      <th>6</th>\n",
       "      <td>0.3</td>\n",
       "      <td>total vRNA</td>\n",
       "      <td>M</td>\n",
       "      <td>0.889488</td>\n",
       "      <td>0.001324</td>\n",
       "      <td>0.500000</td>\n",
       "      <td>0.170471</td>\n",
       "    </tr>\n",
       "    <tr>\n",
       "      <th>7</th>\n",
       "      <td>0.3</td>\n",
       "      <td>total vRNA</td>\n",
       "      <td>NS</td>\n",
       "      <td>0.281964</td>\n",
       "      <td>0.462295</td>\n",
       "      <td>0.033333</td>\n",
       "      <td>0.932157</td>\n",
       "    </tr>\n",
       "    <tr>\n",
       "      <th>8</th>\n",
       "      <td>1.0</td>\n",
       "      <td>total vRNA</td>\n",
       "      <td>PB2</td>\n",
       "      <td>0.266122</td>\n",
       "      <td>0.488845</td>\n",
       "      <td>0.183333</td>\n",
       "      <td>0.636820</td>\n",
       "    </tr>\n",
       "    <tr>\n",
       "      <th>9</th>\n",
       "      <td>1.0</td>\n",
       "      <td>total vRNA</td>\n",
       "      <td>PB1</td>\n",
       "      <td>0.399863</td>\n",
       "      <td>0.286286</td>\n",
       "      <td>0.333333</td>\n",
       "      <td>0.380713</td>\n",
       "    </tr>\n",
       "    <tr>\n",
       "      <th>10</th>\n",
       "      <td>1.0</td>\n",
       "      <td>total vRNA</td>\n",
       "      <td>PA</td>\n",
       "      <td>0.463561</td>\n",
       "      <td>0.208826</td>\n",
       "      <td>0.566667</td>\n",
       "      <td>0.111633</td>\n",
       "    </tr>\n",
       "    <tr>\n",
       "      <th>11</th>\n",
       "      <td>1.0</td>\n",
       "      <td>total vRNA</td>\n",
       "      <td>HA</td>\n",
       "      <td>0.430557</td>\n",
       "      <td>0.247328</td>\n",
       "      <td>0.533333</td>\n",
       "      <td>0.139227</td>\n",
       "    </tr>\n",
       "    <tr>\n",
       "      <th>12</th>\n",
       "      <td>1.0</td>\n",
       "      <td>total vRNA</td>\n",
       "      <td>NP</td>\n",
       "      <td>0.365350</td>\n",
       "      <td>0.333611</td>\n",
       "      <td>0.166667</td>\n",
       "      <td>0.668231</td>\n",
       "    </tr>\n",
       "    <tr>\n",
       "      <th>13</th>\n",
       "      <td>1.0</td>\n",
       "      <td>total vRNA</td>\n",
       "      <td>NA</td>\n",
       "      <td>0.621086</td>\n",
       "      <td>0.074237</td>\n",
       "      <td>0.516667</td>\n",
       "      <td>0.154390</td>\n",
       "    </tr>\n",
       "    <tr>\n",
       "      <th>14</th>\n",
       "      <td>1.0</td>\n",
       "      <td>total vRNA</td>\n",
       "      <td>M</td>\n",
       "      <td>0.954687</td>\n",
       "      <td>0.000062</td>\n",
       "      <td>0.916667</td>\n",
       "      <td>0.000507</td>\n",
       "    </tr>\n",
       "    <tr>\n",
       "      <th>15</th>\n",
       "      <td>1.0</td>\n",
       "      <td>total vRNA</td>\n",
       "      <td>NS</td>\n",
       "      <td>0.153889</td>\n",
       "      <td>0.692622</td>\n",
       "      <td>0.300000</td>\n",
       "      <td>0.432845</td>\n",
       "    </tr>\n",
       "  </tbody>\n",
       "</table>\n",
       "</div>"
      ],
      "text/plain": [
       "    moi    molecule segment  PearsonCorrelation  Pearson_p-Value  \\\n",
       "0   0.3  total vRNA     PB2            0.591697         0.093274   \n",
       "1   0.3  total vRNA     PB1            0.794355         0.010550   \n",
       "2   0.3  total vRNA      PA            0.505629         0.164937   \n",
       "3   0.3  total vRNA      HA            0.553960         0.121724   \n",
       "4   0.3  total vRNA      NP            0.609360         0.081511   \n",
       "5   0.3  total vRNA      NA            0.786723         0.011890   \n",
       "6   0.3  total vRNA       M            0.889488         0.001324   \n",
       "7   0.3  total vRNA      NS            0.281964         0.462295   \n",
       "8   1.0  total vRNA     PB2            0.266122         0.488845   \n",
       "9   1.0  total vRNA     PB1            0.399863         0.286286   \n",
       "10  1.0  total vRNA      PA            0.463561         0.208826   \n",
       "11  1.0  total vRNA      HA            0.430557         0.247328   \n",
       "12  1.0  total vRNA      NP            0.365350         0.333611   \n",
       "13  1.0  total vRNA      NA            0.621086         0.074237   \n",
       "14  1.0  total vRNA       M            0.954687         0.000062   \n",
       "15  1.0  total vRNA      NS            0.153889         0.692622   \n",
       "\n",
       "    SpearmanCorrelation  Spearman_p-Value  \n",
       "0              0.366667          0.331740  \n",
       "1              0.583333          0.099186  \n",
       "2              0.266667          0.487922  \n",
       "3              0.400000          0.286105  \n",
       "4              0.616667          0.076929  \n",
       "5              0.583333          0.099186  \n",
       "6              0.500000          0.170471  \n",
       "7              0.033333          0.932157  \n",
       "8              0.183333          0.636820  \n",
       "9              0.333333          0.380713  \n",
       "10             0.566667          0.111633  \n",
       "11             0.533333          0.139227  \n",
       "12             0.166667          0.668231  \n",
       "13             0.516667          0.154390  \n",
       "14             0.916667          0.000507  \n",
       "15             0.300000          0.432845  "
      ]
     },
     "execution_count": 17,
     "metadata": {},
     "output_type": "execute_result"
    }
   ],
   "source": [
    "df_res"
   ]
  },
  {
   "cell_type": "code",
   "execution_count": 18,
   "id": "4468d1cd-bec5-4c95-87ac-ea1f5a24404e",
   "metadata": {},
   "outputs": [
    {
     "data": {
      "image/png": "[encoded data removed]",
      "text/plain": [
       "<Figure size 640x480 with 1 Axes>"
      ]
     },
     "metadata": {},
     "output_type": "display_data"
    }
   ],
   "source": [
    "x=np.arange(8)\n",
    "plt.bar(x,df_res[df_res['moi']==0.3].PearsonCorrelation, label='0.3 MOI',color='rosybrown')\n",
    "plt.bar(x+9,df_res[df_res['moi']==1].PearsonCorrelation,label='1.0 MOI',color='cadetblue')\n",
    "plt.xticks(list(x)+list(x+9), df_res.segment)\n",
    "plt.ylabel('Pearson\\'s correlation coefficient\\nbetween mRNA segment and total vRNA')\n",
    "plt.legend()\n",
    "plt.savefig('figures/supp-fig8-correlation_total_vRNA.svg')"
   ]
  }
 ],
 "metadata": {
  "kernelspec": {
   "display_name": "Python 3 (ipykernel)",
   "language": "python",
   "name": "python3"
  },
  "language_info": {
   "codemirror_mode": {
    "name": "ipython",
    "version": 3
   },
   "file_extension": ".py",
   "mimetype": "text/x-python",
   "name": "python",
   "nbconvert_exporter": "python",
   "pygments_lexer": "ipython3",
   "version": "3.9.16"
  }
 },
 "nbformat": 4,
 "nbformat_minor": 5
}
